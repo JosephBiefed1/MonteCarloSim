{
  "nbformat": 4,
  "nbformat_minor": 0,
  "metadata": {
    "colab": {
      "provenance": []
    },
    "kernelspec": {
      "name": "python3",
      "display_name": "Python 3"
    },
    "language_info": {
      "name": "python"
    }
  },
  "cells": [
    {
      "cell_type": "code",
      "execution_count": 9,
      "metadata": {
        "id": "PNFVtt8DWOFR"
      },
      "outputs": [],
      "source": [
        "import pandas as pd\n",
        "import numpy as np\n",
        "import matplotlib.pyplot as plt\n",
        "import datetime as dt\n",
        "from pandas_datareader import data as pdr\n",
        "import yfinance as yf\n"
      ]
    },
    {
      "cell_type": "code",
      "source": [
        "stocklist = ['MSFT', 'BHP', 'TLS', 'MCD', 'AAXJ', 'XPP']\n"
      ],
      "metadata": {
        "id": "pMPhtnaFwjF5"
      },
      "execution_count": 70,
      "outputs": []
    },
    {
      "cell_type": "code",
      "source": [
        "mc_sims = 50\n",
        "T=100 #timeframe in days\n",
        "initial_portfolio = 1000\n",
        "\n",
        "count = 100\n",
        "def get_data(stocks, start, end):\n",
        "    data = yf.download(stocks, start, end)[\"Close\"]\n",
        "    returns = data.pct_change()\n",
        "    meanReturn = returns.mean()\n",
        "    covMatrix = returns.cov()\n",
        "    return meanReturn, covMatrix\n",
        "\n",
        "stocks = [stock for stock in stocklist]\n",
        "endDate = dt.datetime.now()\n",
        "startDate = endDate - dt.timedelta(days=300)\n",
        "meanReturns, covMatrix = get_data(stocks, startDate, endDate)\n",
        "\n",
        "def random_port_size():\n",
        "  weights = np.random.random(len(meanReturns))\n",
        "  #ensure that the sum of the weights array is '1'\n",
        "  weights /= np.sum(weights)\n",
        "  meanM = np.full(shape=(T, len(weights)), fill_value=meanReturns)\n",
        "  meanM = meanM.T\n",
        "  portfolio_sims = np.full(shape=(T, mc_sims), fill_value=0.0)\n",
        "\n",
        "  for m in range(0, mc_sims):\n",
        "    Z = np.random.normal(size=(T, len(weights)))\n",
        "    L = np.linalg.cholesky(covMatrix)\n",
        "    daily_returns = meanM + np.inner(L, Z)\n",
        "    portfolio_sims[:, m] = np.cumprod(np.inner(weights, daily_returns.T)+1)*initial_portfolio\n",
        "\n",
        "  final_portfolio_values = portfolio_sims[-1]\n",
        "\n",
        "  # Calculate the percentage change from the initial portfolio value\n",
        "  returns = (final_portfolio_values - initial_portfolio) / initial_portfolio\n",
        "\n",
        "  def num_calculator(value_in_pct):\n",
        "      # Count the number of simulations with at least a specified increase\n",
        "      num_simulations = np.sum(returns >= (value_in_pct / 100)) / len(returns) * 100\n",
        "      return num_simulations\n",
        "\n",
        "\n",
        "  return weights, num_calculator(10), num_calculator(20), num_calculator(30), num_calculator(40), num_calculator(50)"
      ],
      "metadata": {
        "id": "lNX8chNJYIwV",
        "colab": {
          "base_uri": "https://localhost:8080/"
        },
        "outputId": "282dec6b-9591-4c29-ecc9-7ab6c5ccf1d1"
      },
      "execution_count": 71,
      "outputs": [
        {
          "output_type": "stream",
          "name": "stderr",
          "text": [
            "[*********************100%%**********************]  6 of 6 completed\n"
          ]
        }
      ]
    },
    {
      "cell_type": "code",
      "source": [
        "best_10 = 0\n",
        "best_weights_10 = None\n",
        "best_20 = 0\n",
        "best_weights_20 = None\n",
        "best_30 = 0\n",
        "best_weights_30 = None\n",
        "best_40 = 0\n",
        "best_weights_40 = None\n",
        "best_50 = 0\n",
        "best_weights_50 = None\n",
        "\n",
        "for i in range(count):\n",
        "  weighted_df, returns_10, returns_20, returns_30, returns_40, returns_50 = random_port_size()\n",
        "  if returns_10 > best_10:\n",
        "    best_10 = returns_10\n",
        "    best_weights_10 = weighted_df\n",
        "  if returns_20 > best_20:\n",
        "    best_20 = returns_20\n",
        "    best_weights_20 = weighted_df\n",
        "  if returns_30 > best_30:\n",
        "    best_30 = returns_30\n",
        "    best_weights_30 = weighted_df\n",
        "  if returns_40 > best_40:\n",
        "    best_40 = returns_40\n",
        "    best_weights_40 = weighted_df\n",
        "  if returns_50 > best_50:\n",
        "    best_50 = returns_50\n",
        "    best_weights_50 = weighted_df\n",
        "\n"
      ],
      "metadata": {
        "id": "i5yyAoqXo020"
      },
      "execution_count": 72,
      "outputs": []
    },
    {
      "cell_type": "code",
      "source": [
        "print('> 10%', best_10)\n",
        "print(best_weights_10)\n",
        "print('\\n')\n",
        "print('> 20%', best_20)\n",
        "print(best_weights_20)\n",
        "print('\\n')\n",
        "print('> 30%', best_30)\n",
        "print(best_weights_30)\n",
        "print('\\n')\n",
        "print('> 40%', best_40)\n",
        "print(best_weights_40)\n",
        "print('\\n')\n",
        "print('> 50%', best_50)\n",
        "print(best_weights_50)\n"
      ],
      "metadata": {
        "id": "pzqfus2opeaj",
        "colab": {
          "base_uri": "https://localhost:8080/"
        },
        "outputId": "9de63bc0-86e0-49ff-d5d0-7def6c547e39"
      },
      "execution_count": 73,
      "outputs": [
        {
          "output_type": "stream",
          "name": "stdout",
          "text": [
            "> 10% 76.0\n",
            "[0.02382909 0.01839577 0.09371584 0.12271317 0.46908994 0.27225619]\n",
            "\n",
            "\n",
            "> 20% 66.0\n",
            "[0.02382909 0.01839577 0.09371584 0.12271317 0.46908994 0.27225619]\n",
            "\n",
            "\n",
            "> 30% 54.0\n",
            "[0.02382909 0.01839577 0.09371584 0.12271317 0.46908994 0.27225619]\n",
            "\n",
            "\n",
            "> 40% 36.0\n",
            "[0.02382909 0.01839577 0.09371584 0.12271317 0.46908994 0.27225619]\n",
            "\n",
            "\n",
            "> 50% 30.0\n",
            "[0.02382909 0.01839577 0.09371584 0.12271317 0.46908994 0.27225619]\n"
          ]
        }
      ]
    },
    {
      "cell_type": "code",
      "source": [],
      "metadata": {
        "id": "y1JO3npbHli6"
      },
      "execution_count": 73,
      "outputs": []
    },
    {
      "cell_type": "code",
      "source": [
        "best_weights_10.shape"
      ],
      "metadata": {
        "id": "BPX1JSMbKmvc",
        "colab": {
          "base_uri": "https://localhost:8080/"
        },
        "outputId": "44f04bb8-0bb8-4986-8fce-7cc926fccaad"
      },
      "execution_count": 74,
      "outputs": [
        {
          "output_type": "execute_result",
          "data": {
            "text/plain": [
              "(6,)"
            ]
          },
          "metadata": {},
          "execution_count": 74
        }
      ]
    },
    {
      "cell_type": "code",
      "source": [
        "def get_data(stocks, start, end):\n",
        "      data = yf.download(stocks, start, end)[\"Close\"]\n",
        "      returns = data.pct_change()\n",
        "      meanReturn = returns.mean()\n",
        "      covMatrix = returns.cov()\n",
        "      return meanReturn, covMatrix\n",
        "\n",
        "stocks = [stock for stock in stocklist]\n",
        "endDate = dt.datetime.now()\n",
        "startDate = endDate - dt.timedelta(days=300)\n",
        "meanReturns, covMatrix = get_data(stocks, startDate, endDate)\n",
        "\n",
        "\n",
        "meanM = np.full(shape=(T, len(meanReturns)), fill_value=meanReturns)\n",
        "meanM = meanM.T\n",
        "\n",
        "portfolio_sims = np.full(shape=(T, mc_sims), fill_value=0.0)\n",
        "for m in range(0, mc_sims):\n",
        "  Z = np.random.normal(size=(T, len(best_weights_10)))\n",
        "  L = np.linalg.cholesky(covMatrix)\n",
        "  daily_returns = meanM + np.inner(L, Z)\n",
        "  portfolio_sims[:, m] = np.cumprod(np.inner(best_weights_10, daily_returns.T)+1)*initial_portfolio"
      ],
      "metadata": {
        "id": "52IDlNVjEhnL",
        "colab": {
          "base_uri": "https://localhost:8080/"
        },
        "outputId": "28d48631-d7e0-40d7-f06b-cc10488e4d06"
      },
      "execution_count": 75,
      "outputs": [
        {
          "output_type": "stream",
          "name": "stderr",
          "text": [
            "[*********************100%%**********************]  6 of 6 completed\n"
          ]
        }
      ]
    },
    {
      "cell_type": "markdown",
      "source": [
        "\n",
        "**include value at risk(vAr) and conditional value at risk(CVAR)**"
      ],
      "metadata": {
        "id": "oyzfCVskmnhI"
      }
    },
    {
      "cell_type": "code",
      "source": [
        "def mcVar(returns, alpha = 5):\n",
        "  \"\"\"\n",
        "  Input: panda series of returns\n",
        "  output: percentile on return distribution based on confidence level\n",
        "  \"\"\"\n",
        "\n",
        "  if isinstance(returns, pd.Series):\n",
        "    return np.percentile(returns, alpha)\n",
        "\n",
        "  else:\n",
        "    raise TypeError(\"Input must be a pandas series\")\n",
        "\n",
        "\n",
        "def mcCVar(returns, alpha = 5):\n",
        "  \"\"\"\n",
        "  Input: panda series of returns\n",
        "  output: percentile on return distribution based on confidence level\n",
        "  \"\"\"\n",
        "\n",
        "  if isinstance(returns, pd.Series):\n",
        "    belowVar = returns<= mcVar(returns, alpha = alpha)\n",
        "    return returns[belowVar].mean()\n",
        "\n",
        "  else:\n",
        "    raise TypeError(\"Input must be a pandas series\")\n",
        "\n",
        "\n",
        "portResult = pd.Series(portfolio_sims[-1, :])\n",
        "\n",
        "VaR = initial_portfolio - mcVar(portResult, alpha=5)\n",
        "CVar = initial_portfolio - mcCVar(portResult, alpha=5)\n",
        "\n",
        "\n",
        "print(f'Value at risk: ${VaR}')\n",
        "print(f'Conditional value at risk: ${CVar}')\n"
      ],
      "metadata": {
        "id": "Zn2SFLWiqx07",
        "colab": {
          "base_uri": "https://localhost:8080/"
        },
        "outputId": "7369c823-0a05-4597-8de6-363930b06191"
      },
      "execution_count": 76,
      "outputs": [
        {
          "output_type": "stream",
          "name": "stdout",
          "text": [
            "Value at risk: $273.6592950460945\n",
            "Conditional value at risk: $295.8662091130642\n"
          ]
        }
      ]
    },
    {
      "cell_type": "markdown",
      "source": [
        "working with alpaca api(paper trading)"
      ],
      "metadata": {
        "id": "Y4vsGBGdAnvU"
      }
    },
    {
      "cell_type": "code",
      "source": [
        "apiKey = ''\n",
        "secretKey = ''\n",
        "baseUrl = 'https://paper-api.alpaca.markets/'"
      ],
      "metadata": {
        "id": "sy849MsnAv7o"
      },
      "execution_count": 77,
      "outputs": []
    },
    {
      "cell_type": "code",
      "source": [
        "!pip install alpaca-trade-api\n",
        "!pip install alpaca-py"
      ],
      "metadata": {
        "id": "61Bg2mAxA0eh",
        "colab": {
          "base_uri": "https://localhost:8080/"
        },
        "outputId": "a7cef235-0092-452f-857e-abc26075bf64"
      },
      "execution_count": 78,
      "outputs": [
        {
          "output_type": "stream",
          "name": "stdout",
          "text": [
            "Requirement already satisfied: alpaca-trade-api in /usr/local/lib/python3.10/dist-packages (3.2.0)\n",
            "Requirement already satisfied: pandas>=0.18.1 in /usr/local/lib/python3.10/dist-packages (from alpaca-trade-api) (2.0.3)\n",
            "Requirement already satisfied: numpy>=1.11.1 in /usr/local/lib/python3.10/dist-packages (from alpaca-trade-api) (1.25.2)\n",
            "Requirement already satisfied: requests<3,>2 in /usr/local/lib/python3.10/dist-packages (from alpaca-trade-api) (2.31.0)\n",
            "Requirement already satisfied: urllib3<2,>1.24 in /usr/local/lib/python3.10/dist-packages (from alpaca-trade-api) (1.26.18)\n",
            "Requirement already satisfied: websocket-client<2,>=0.56.0 in /usr/local/lib/python3.10/dist-packages (from alpaca-trade-api) (1.8.0)\n",
            "Requirement already satisfied: websockets<11,>=9.0 in /usr/local/lib/python3.10/dist-packages (from alpaca-trade-api) (10.4)\n",
            "Requirement already satisfied: msgpack==1.0.3 in /usr/local/lib/python3.10/dist-packages (from alpaca-trade-api) (1.0.3)\n",
            "Requirement already satisfied: aiohttp<4,>=3.8.3 in /usr/local/lib/python3.10/dist-packages (from alpaca-trade-api) (3.9.5)\n",
            "Requirement already satisfied: PyYAML==6.0.1 in /usr/local/lib/python3.10/dist-packages (from alpaca-trade-api) (6.0.1)\n",
            "Requirement already satisfied: deprecation==2.1.0 in /usr/local/lib/python3.10/dist-packages (from alpaca-trade-api) (2.1.0)\n",
            "Requirement already satisfied: packaging in /usr/local/lib/python3.10/dist-packages (from deprecation==2.1.0->alpaca-trade-api) (24.0)\n",
            "Requirement already satisfied: aiosignal>=1.1.2 in /usr/local/lib/python3.10/dist-packages (from aiohttp<4,>=3.8.3->alpaca-trade-api) (1.3.1)\n",
            "Requirement already satisfied: attrs>=17.3.0 in /usr/local/lib/python3.10/dist-packages (from aiohttp<4,>=3.8.3->alpaca-trade-api) (23.2.0)\n",
            "Requirement already satisfied: frozenlist>=1.1.1 in /usr/local/lib/python3.10/dist-packages (from aiohttp<4,>=3.8.3->alpaca-trade-api) (1.4.1)\n",
            "Requirement already satisfied: multidict<7.0,>=4.5 in /usr/local/lib/python3.10/dist-packages (from aiohttp<4,>=3.8.3->alpaca-trade-api) (6.0.5)\n",
            "Requirement already satisfied: yarl<2.0,>=1.0 in /usr/local/lib/python3.10/dist-packages (from aiohttp<4,>=3.8.3->alpaca-trade-api) (1.9.4)\n",
            "Requirement already satisfied: async-timeout<5.0,>=4.0 in /usr/local/lib/python3.10/dist-packages (from aiohttp<4,>=3.8.3->alpaca-trade-api) (4.0.3)\n",
            "Requirement already satisfied: python-dateutil>=2.8.2 in /usr/local/lib/python3.10/dist-packages (from pandas>=0.18.1->alpaca-trade-api) (2.8.2)\n",
            "Requirement already satisfied: pytz>=2020.1 in /usr/local/lib/python3.10/dist-packages (from pandas>=0.18.1->alpaca-trade-api) (2023.4)\n",
            "Requirement already satisfied: tzdata>=2022.1 in /usr/local/lib/python3.10/dist-packages (from pandas>=0.18.1->alpaca-trade-api) (2024.1)\n",
            "Requirement already satisfied: charset-normalizer<4,>=2 in /usr/local/lib/python3.10/dist-packages (from requests<3,>2->alpaca-trade-api) (3.3.2)\n",
            "Requirement already satisfied: idna<4,>=2.5 in /usr/local/lib/python3.10/dist-packages (from requests<3,>2->alpaca-trade-api) (3.7)\n",
            "Requirement already satisfied: certifi>=2017.4.17 in /usr/local/lib/python3.10/dist-packages (from requests<3,>2->alpaca-trade-api) (2024.6.2)\n",
            "Requirement already satisfied: six>=1.5 in /usr/local/lib/python3.10/dist-packages (from python-dateutil>=2.8.2->pandas>=0.18.1->alpaca-trade-api) (1.16.0)\n",
            "Requirement already satisfied: alpaca-py in /usr/local/lib/python3.10/dist-packages (0.23.0)\n",
            "Requirement already satisfied: msgpack<2.0.0,>=1.0.3 in /usr/local/lib/python3.10/dist-packages (from alpaca-py) (1.0.3)\n",
            "Requirement already satisfied: pandas>=1.5.3 in /usr/local/lib/python3.10/dist-packages (from alpaca-py) (2.0.3)\n",
            "Requirement already satisfied: pydantic<3.0.0,>=2.0.3 in /usr/local/lib/python3.10/dist-packages (from alpaca-py) (2.7.3)\n",
            "Requirement already satisfied: requests<3.0.0,>=2.30.0 in /usr/local/lib/python3.10/dist-packages (from alpaca-py) (2.31.0)\n",
            "Requirement already satisfied: sseclient-py<2.0.0,>=1.7.2 in /usr/local/lib/python3.10/dist-packages (from alpaca-py) (1.8.0)\n",
            "Requirement already satisfied: websockets>=10.4 in /usr/local/lib/python3.10/dist-packages (from alpaca-py) (10.4)\n",
            "Requirement already satisfied: python-dateutil>=2.8.2 in /usr/local/lib/python3.10/dist-packages (from pandas>=1.5.3->alpaca-py) (2.8.2)\n",
            "Requirement already satisfied: pytz>=2020.1 in /usr/local/lib/python3.10/dist-packages (from pandas>=1.5.3->alpaca-py) (2023.4)\n",
            "Requirement already satisfied: tzdata>=2022.1 in /usr/local/lib/python3.10/dist-packages (from pandas>=1.5.3->alpaca-py) (2024.1)\n",
            "Requirement already satisfied: numpy>=1.21.0 in /usr/local/lib/python3.10/dist-packages (from pandas>=1.5.3->alpaca-py) (1.25.2)\n",
            "Requirement already satisfied: annotated-types>=0.4.0 in /usr/local/lib/python3.10/dist-packages (from pydantic<3.0.0,>=2.0.3->alpaca-py) (0.7.0)\n",
            "Requirement already satisfied: pydantic-core==2.18.4 in /usr/local/lib/python3.10/dist-packages (from pydantic<3.0.0,>=2.0.3->alpaca-py) (2.18.4)\n",
            "Requirement already satisfied: typing-extensions>=4.6.1 in /usr/local/lib/python3.10/dist-packages (from pydantic<3.0.0,>=2.0.3->alpaca-py) (4.12.1)\n",
            "Requirement already satisfied: charset-normalizer<4,>=2 in /usr/local/lib/python3.10/dist-packages (from requests<3.0.0,>=2.30.0->alpaca-py) (3.3.2)\n",
            "Requirement already satisfied: idna<4,>=2.5 in /usr/local/lib/python3.10/dist-packages (from requests<3.0.0,>=2.30.0->alpaca-py) (3.7)\n",
            "Requirement already satisfied: urllib3<3,>=1.21.1 in /usr/local/lib/python3.10/dist-packages (from requests<3.0.0,>=2.30.0->alpaca-py) (1.26.18)\n",
            "Requirement already satisfied: certifi>=2017.4.17 in /usr/local/lib/python3.10/dist-packages (from requests<3.0.0,>=2.30.0->alpaca-py) (2024.6.2)\n",
            "Requirement already satisfied: six>=1.5 in /usr/local/lib/python3.10/dist-packages (from python-dateutil>=2.8.2->pandas>=1.5.3->alpaca-py) (1.16.0)\n"
          ]
        }
      ]
    },
    {
      "cell_type": "code",
      "source": [
        "stocklist\n"
      ],
      "metadata": {
        "id": "7M0eya9fMYST",
        "colab": {
          "base_uri": "https://localhost:8080/"
        },
        "outputId": "d9299346-b3fe-4e41-a591-42c406d7d59b"
      },
      "execution_count": 79,
      "outputs": [
        {
          "output_type": "execute_result",
          "data": {
            "text/plain": [
              "['MSFT', 'BHP', 'TLS', 'MCD', 'AAXJ', 'XPP']"
            ]
          },
          "metadata": {},
          "execution_count": 79
        }
      ]
    },
    {
      "cell_type": "markdown",
      "source": [
        "check market open\n"
      ],
      "metadata": {
        "id": "crFXXcG5MCbs"
      }
    },
    {
      "cell_type": "code",
      "source": [
        "import alpaca_trade_api as tradeapi\n",
        "\n",
        "api = tradeapi.REST(apiKey, secretKey, baseUrl)\n",
        "\n",
        "# Check if the market is open now.\n",
        "clock = api.get_clock()\n",
        "print('The market is {}'.format('open.' if clock.is_open else 'closed.'))\n"
      ],
      "metadata": {
        "id": "7JRNI6SvMELM",
        "colab": {
          "base_uri": "https://localhost:8080/"
        },
        "outputId": "5e0a288a-bf52-4893-f94b-fcd6e5e43d2d"
      },
      "execution_count": 80,
      "outputs": [
        {
          "output_type": "stream",
          "name": "stdout",
          "text": [
            "The market is closed.\n"
          ]
        }
      ]
    },
    {
      "cell_type": "markdown",
      "source": [
        "Get the stocks available\n"
      ],
      "metadata": {
        "id": "5tVghFhauD1k"
      }
    },
    {
      "cell_type": "code",
      "source": [],
      "metadata": {
        "id": "uqDPi1BLuDHn"
      },
      "execution_count": 80,
      "outputs": []
    },
    {
      "cell_type": "code",
      "source": [],
      "metadata": {
        "id": "cU_Mgv0gyz3-"
      },
      "execution_count": 80,
      "outputs": []
    },
    {
      "cell_type": "code",
      "source": [
        "from alpaca.trading.client import TradingClient\n",
        "from alpaca.trading.requests import GetAssetsRequest\n",
        "\n",
        "trading_client = TradingClient(apiKey, secretKey)\n",
        "\n",
        "for stocks in stocklist:\n",
        "  try:\n",
        "    # search for AAPL\n",
        "    asset = trading_client.get_asset(stocks)\n",
        "\n",
        "    if asset.tradable:\n",
        "        print(f'We can trade {stocks}.')\n",
        "    else:\n",
        "        print(f'We cannot trade {stocks}.')\n",
        "\n",
        "  except:\n",
        "    print(f'We cannot trade {stocks}.')"
      ],
      "metadata": {
        "id": "ZGeTDJCvOv3Y",
        "colab": {
          "base_uri": "https://localhost:8080/"
        },
        "outputId": "377d76e4-ee20-4bbb-ddfb-f42f8a45e31c"
      },
      "execution_count": 81,
      "outputs": [
        {
          "output_type": "stream",
          "name": "stdout",
          "text": [
            "We can trade MSFT.\n",
            "We can trade BHP.\n",
            "We can trade TLS.\n",
            "We can trade MCD.\n",
            "We can trade AAXJ.\n",
            "We can trade XPP.\n"
          ]
        }
      ]
    },
    {
      "cell_type": "code",
      "source": [
        "from alpaca.trading.client import TradingClient\n",
        "from alpaca.trading.requests import MarketOrderRequest\n",
        "from alpaca.trading.enums import OrderSide, TimeInForce\n",
        "\n",
        "trading_client = TradingClient(apiKey, secretKey)\n",
        "\n",
        "\n",
        "\n",
        "\n",
        "for i in range(len(stocklist)):\n",
        "  stock = yf.download(stocklist[i], progress=False)\n",
        "\n",
        "\n",
        "  current_price = stock.iloc[-1]['Close']\n",
        "\n",
        "\n",
        "  # Get the current price\n",
        "  stk_qty = 0.9*best_weights_10[i]*initial_portfolio / current_price\n",
        "\n",
        "  # preparing order data\n",
        "  market_order_data = MarketOrderRequest(\n",
        "                        symbol=stocklist[i],\n",
        "                        qty=stk_qty,\n",
        "                        side=OrderSide.BUY,\n",
        "                        time_in_force=TimeInForce.DAY\n",
        "                    )\n",
        "  print('Purchased ' + str(stk_qty) + ' of ' + stocklist[i] +  \" costing \" + \"$\" + str(current_price*stk_qty))\n",
        "  print('/n')\n",
        "\n",
        "  # Market order\n",
        "  market_order = trading_client.submit_order(\n",
        "                order_data=market_order_data\n",
        "                )"
      ],
      "metadata": {
        "id": "ZSVozv8mAozO",
        "colab": {
          "base_uri": "https://localhost:8080/"
        },
        "outputId": "cb7e9701-2e46-415a-a536-bac4f7f9b725"
      },
      "execution_count": 91,
      "outputs": [
        {
          "output_type": "stream",
          "name": "stderr",
          "text": [
            "\r[*********************100%%**********************]  1 of 1 completed\n"
          ]
        },
        {
          "output_type": "stream",
          "name": "stdout",
          "text": [
            "Purchased0.05012311671871268ofMSFTcosting$21.446177705693813\n"
          ]
        },
        {
          "output_type": "stream",
          "name": "stderr",
          "text": [
            "[*********************100%%**********************]  1 of 1 completed\n",
            "[*********************100%%**********************]  1 of 1 completed\n"
          ]
        },
        {
          "output_type": "stream",
          "name": "stdout",
          "text": [
            "Purchased0.28344786458047927ofBHPcosting$16.55618972689508\n",
            "Purchased20.774448279578404ofTLScosting$84.34425882636485\n"
          ]
        },
        {
          "output_type": "stream",
          "name": "stderr",
          "text": [
            "\r[*********************100%%**********************]  1 of 1 completed\n"
          ]
        },
        {
          "output_type": "stream",
          "name": "stdout",
          "text": [
            "Purchased0.43513595027918056ofMCDcosting$110.44185447801519\n"
          ]
        },
        {
          "output_type": "stream",
          "name": "stderr",
          "text": [
            "\r[*********************100%%**********************]  1 of 1 completed\n"
          ]
        },
        {
          "output_type": "stream",
          "name": "stdout",
          "text": [
            "Purchased5.901327135795823ofAAXJcosting$422.1809486976595\n"
          ]
        },
        {
          "output_type": "stream",
          "name": "stderr",
          "text": [
            "\r[*********************100%%**********************]  1 of 1 completed"
          ]
        },
        {
          "output_type": "stream",
          "name": "stdout",
          "text": [
            "Purchased15.527919816969167ofXPPcosting$245.03057056537153\n"
          ]
        },
        {
          "output_type": "stream",
          "name": "stderr",
          "text": [
            "\n"
          ]
        }
      ]
    },
    {
      "cell_type": "code",
      "source": [
        "current_price"
      ],
      "metadata": {
        "colab": {
          "base_uri": "https://localhost:8080/"
        },
        "id": "Tfcj6GEj0dwi",
        "outputId": "7e0c16f9-c192-412c-f2d6-a920b8b13765"
      },
      "execution_count": 85,
      "outputs": [
        {
          "output_type": "execute_result",
          "data": {
            "text/plain": [
              "15.779999732971191"
            ]
          },
          "metadata": {},
          "execution_count": 85
        }
      ]
    },
    {
      "cell_type": "code",
      "source": [
        "stk_qty = 0.9*best_weights_10[i]*initial_portfolio / current_price\n",
        "stk_qty"
      ],
      "metadata": {
        "colab": {
          "base_uri": "https://localhost:8080/"
        },
        "id": "7xlAk48H0hvQ",
        "outputId": "590f661a-f4e1-45d4-f0a0-5be8121c750d"
      },
      "execution_count": 86,
      "outputs": [
        {
          "output_type": "execute_result",
          "data": {
            "text/plain": [
              "17.253244241076853"
            ]
          },
          "metadata": {},
          "execution_count": 86
        }
      ]
    },
    {
      "cell_type": "code",
      "source": [
        "best_weights_10[i]"
      ],
      "metadata": {
        "colab": {
          "base_uri": "https://localhost:8080/"
        },
        "id": "iyU7tDvI0mB7",
        "outputId": "10176d9c-bbf9-4fd2-e044-6a108891dd77"
      },
      "execution_count": 87,
      "outputs": [
        {
          "output_type": "execute_result",
          "data": {
            "text/plain": [
              "0.27225618951707947"
            ]
          },
          "metadata": {},
          "execution_count": 87
        }
      ]
    }
  ]
}
